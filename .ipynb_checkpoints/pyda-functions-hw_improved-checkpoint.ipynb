{
 "cells": [
  {
   "cell_type": "markdown",
   "metadata": {},
   "source": [
    "## Задание 1"
   ]
  },
  {
   "cell_type": "markdown",
   "metadata": {},
   "source": [
    "Дан список вида:"
   ]
  },
  {
   "cell_type": "code",
   "execution_count": 1,
   "metadata": {},
   "outputs": [],
   "source": [
    "data = [\n",
    "    [13, 25, 23, 34],\n",
    "    [45, 32, 44, 47],\n",
    "    [12, 33, 23, 95],\n",
    "    [13, 53, 34, 35]\n",
    "]\n",
    "\n",
    "data_4 = [\n",
    "    [13, 25, 23, 34, 25],\n",
    "    [45, 32, 44, 47, 54],\n",
    "    [12, 33, 23, 95, 24],\n",
    "    [13, 53, 34, 35, 46],\n",
    "    [56, 78, 21, 54, 50]\n",
    "]"
   ]
  },
  {
   "cell_type": "code",
   "execution_count": 2,
   "metadata": {},
   "outputs": [],
   "source": [
    "def diagonal_summa(quadrat):\n",
    "    i = 0\n",
    "    i_max = len(quadrat)\n",
    "    summa = 0\n",
    "    if i <= i_max:\n",
    "        for line in quadrat:\n",
    "            summa += line[i]\n",
    "            i += 1\n",
    "    print(summa)"
   ]
  },
  {
   "cell_type": "markdown",
   "metadata": {},
   "source": [
    "Напишите функцию, которая возвращает сумму элементов на диагонали. Т. е. 13+32+23+35.  \n",
    "Список может быть любой длины, но всегда является \"квадратным\" (количество элементов во вложенных списках равно их количеству)."
   ]
  },
  {
   "cell_type": "code",
   "execution_count": 3,
   "metadata": {},
   "outputs": [
    {
     "name": "stdout",
     "output_type": "stream",
     "text": [
      "153\n"
     ]
    }
   ],
   "source": [
    "diagonal_summa(data_4)"
   ]
  },
  {
   "cell_type": "markdown",
   "metadata": {},
   "source": [
    "## Задание 2"
   ]
  },
  {
   "cell_type": "markdown",
   "metadata": {},
   "source": [
    "Напишите функцию, возвращающую сумму первых n чисел Фибоначчи (для этого вам может понадобится ознакомиться с рекурсией)."
   ]
  },
  {
   "cell_type": "code",
   "execution_count": 44,
   "metadata": {},
   "outputs": [],
   "source": [
    "def sum_fibonacci(n):\n",
    "    a = 0\n",
    "    b = 1\n",
    "    c = 0\n",
    "    i = 1\n",
    "    if n == 1:\n",
    "        summa_fibonacci = 0\n",
    "    elif n == 2:\n",
    "        summa_fibonacci = 1\n",
    "    else:\n",
    "        summa_fibonacci = 0\n",
    "        while i <= n - 1:\n",
    "            summa_fibonacci += b \n",
    "            c = b \n",
    "            b = a + b\n",
    "            a = c\n",
    "            i += 1\n",
    "   #         print('a=', a, 'b=', b, 'c=', c, 'i=', i, 'summa=', summa_fibonacci)\n",
    "    print(summa_fibonacci)"
   ]
  },
  {
   "cell_type": "code",
   "execution_count": 118,
   "metadata": {},
   "outputs": [
    {
     "name": "stdout",
     "output_type": "stream",
     "text": [
      "4\n"
     ]
    }
   ],
   "source": [
    "sum_fibonacci(4)"
   ]
  },
  {
   "cell_type": "markdown",
   "metadata": {},
   "source": [
    "## Задание 3\n"
   ]
  },
  {
   "cell_type": "markdown",
   "metadata": {},
   "source": [
    "Напишите функцию, преобразующую произвольный список вида ['2018-01-01', 'yandex', 'cpc', 100] (он может быть любой длины) в словарь {'2018-01-01': {'yandex': {'cpc': 100}}}"
   ]
  },
  {
   "cell_type": "code",
   "execution_count": 116,
   "metadata": {},
   "outputs": [],
   "source": [
    "def list_into_dict(str_list):\n",
    "  \n",
    "    dlina = len(str_list) - 2\n",
    "    new_dict = {}\n",
    "    new_key = str_list[dlina]\n",
    "    new_dict[new_key] = str_list[dlina + 1]\n",
    "\n",
    "    new_dict2 = {}\n",
    "\n",
    "    while dlina != 0:\n",
    "        new_dict2 = new_dict\n",
    "        dlina -= 1\n",
    "        new_key = str_list[dlina]\n",
    "        new_dict = {new_key: new_dict2}\n",
    " \n",
    "    print(new_dict)"
   ]
  },
  {
   "cell_type": "code",
   "execution_count": 119,
   "metadata": {},
   "outputs": [
    {
     "name": "stdout",
     "output_type": "stream",
     "text": [
      "{'2018-01-01': {'yandex': {'cpc': 100}}}\n"
     ]
    }
   ],
   "source": [
    "str_list = ['2018-01-01', 'yandex', 'cpc', 100]\n",
    "list_into_dict(str_list)"
   ]
  },
  {
   "cell_type": "markdown",
   "metadata": {},
   "source": [
    "## Задание 4"
   ]
  },
  {
   "cell_type": "markdown",
   "metadata": {},
   "source": [
    "Вы работаете секретарем и вам постоянно приходят различные документы. Вы должны быть очень внимательны, чтобы не потерять ни один документ. Каталог документов хранится в следующем виде:"
   ]
  },
  {
   "cell_type": "code",
   "execution_count": 1,
   "metadata": {},
   "outputs": [],
   "source": [
    "documents = [\n",
    "    {'type': 'passport', 'number': '2207 876234', 'name': 'Василий Гупкин'},\n",
    "    {'type': 'invoice', 'number': '11-2', 'name': 'Геннадий Покемонов'},\n",
    "    {'type': 'insurance', 'number': '10006', 'name': 'Аристарх Павлов'},\n",
    "    {'type': 'invoice', 'number': '3435', 'name': 'Иван Беляев'},\n",
    "    {'type': 'passport', 'number': '37675', 'name': 'Игорь Колесник'},\n",
    "    {'type': 'invoice', 'number': '5454', 'name': 'Анастасия Волочкова'},\n",
    "]"
   ]
  },
  {
   "cell_type": "markdown",
   "metadata": {},
   "source": [
    "Перечень полок, на которых находятся документы хранится в следующем виде:"
   ]
  },
  {
   "cell_type": "code",
   "execution_count": 2,
   "metadata": {},
   "outputs": [],
   "source": [
    "directories = {\n",
    "    '1': ['2207 876234', '11-2', '5455 028765'],\n",
    "    '2': ['10006', '5400 028765', '5455 002299'],\n",
    "    '3': ['3435', '37675', '5454']\n",
    "}"
   ]
  },
  {
   "cell_type": "markdown",
   "metadata": {},
   "source": [
    "Необходимо реализовать пользовательские команды (внимание! это не название функций, которые должны быть выразительными, а команды, которые вводит пользователь, чтобы получить необходимый результат):\n",
    "  \n",
    "- p – people – команда, которая спросит номер документа и выведет имя человека, которому он принадлежит;  \n",
    "- s – shelf – команда, которая спросит номер документа и выведет номер полки, на которой он находится  \n",
    "Правильно обработайте ситуацию, когда пользователь будет вводить несуществующий документ.\n",
    "- l – list – команда, которая выведет список всех документов в формате   \n",
    "**passport \"2207 876234\" \"Василий Гупкин\"**  \n",
    "- as – add shelf – команда, которая спросит номер новой полки и добавит ее в перечень\n",
    "- d – delete – команда, которая спросит номер документа и удалит его из каталога и из перечня полок. Предусмотрите сценарий, когда пользователь вводит несуществующий документ;  \n",
    "- m – move – команда, которая спросит номер документа и целевую полку и переместит его с текущей полки на целевую. Корректно обработайте кейсы, когда пользователь пытается переместить несуществующий документ или переместить документ на несуществующую полку;  \n",
    "- a – add – команда, которая добавит новый документ в каталог и в перечень полок, спросив его номер, тип, имя владельца и номер полки, на котором он будет храниться."
   ]
  },
  {
   "cell_type": "code",
   "execution_count": 3,
   "metadata": {},
   "outputs": [],
   "source": [
    "#p – people – команда, которая спросит номер документа и выведет имя человека, которому он принадлежит;\n",
    "\n",
    "def p_people():\n",
    "    doc_number = input('Введите номер документа ')\n",
    "    for dicts in documents:\n",
    "        if doc_number in dicts.values():\n",
    "            result = dicts['name']\n",
    "            print(result)\n",
    "            return result\n",
    "    result = 'Документ не найден'\n",
    "    print(result)\n",
    "    return result"
   ]
  },
  {
   "cell_type": "code",
   "execution_count": 4,
   "metadata": {},
   "outputs": [],
   "source": [
    "#s – shelf – команда, которая спросит номер документа и выведет номер полки, на которой он находится\n",
    "#Правильно обработайте ситуацию, когда пользователь будет вводить несуществующий документ.\n",
    "\n",
    "def s_shelf():\n",
    "    dir_number = input('Введите номер документа ')\n",
    "    result = 'Incorrect number'\n",
    "    for shelf, docs in directories.items():\n",
    "        if dir_number in docs:\n",
    "            result = shelf        \n",
    "    print(result)    "
   ]
  },
  {
   "cell_type": "code",
   "execution_count": 5,
   "metadata": {},
   "outputs": [],
   "source": [
    "# l – list – команда, которая выведет список всех документов в формате\n",
    "# passport \"2207 876234\" \"Василий Гупкин\"\n",
    "\n",
    "def l_list():\n",
    "    for lines in documents:\n",
    "        print(lines['type'] + ' \"' + lines['number'] + '\" \"' + lines['name'] + '\"')"
   ]
  },
  {
   "cell_type": "code",
   "execution_count": 6,
   "metadata": {},
   "outputs": [],
   "source": [
    "# as – add shelf – команда, которая спросит номер новой полки и добавит ее в перечень\n",
    "\n",
    "def as_add_shelf():\n",
    "    new_shelf = input('укажите номер новой полки ')\n",
    "    if new_shelf in directories.keys():\n",
    "        print('Такая полка уже существует')\n",
    "    else:\n",
    "        directories[new_shelf] = []"
   ]
  },
  {
   "cell_type": "code",
   "execution_count": 7,
   "metadata": {},
   "outputs": [],
   "source": [
    "# d – delete – команда, которая спросит номер документа и удалит его из каталога и из перечня полок. \n",
    "# Предусмотрите сценарий, когда пользователь вводит несуществующий документ;\n",
    "\n",
    "def d_delete():\n",
    "    docts = input('укажите номер документа, который необходимо удалить ')\n",
    "    i = 0\n",
    "    for v in directories.values():\n",
    "        if docts in v:\n",
    "            v.remove(docts)\n",
    "            i += 1\n",
    "    for d in documents:\n",
    "        if d['number'] == docts:\n",
    "            x = documents.index(d)\n",
    "            del(documents[x])\n",
    "    if i == 0:\n",
    "        result = 'Некорректно указан номер документа. Проверьте.'\n",
    "        print(result)\n",
    "        return result  "
   ]
  },
  {
   "cell_type": "code",
   "execution_count": 8,
   "metadata": {},
   "outputs": [],
   "source": [
    "# m – move – команда, которая спросит номер документа и целевую полку и переместит его с текущей полки на целевую.\n",
    "# Корректно обработайте кейсы, когда пользователь пытается переместить несуществующий документ \n",
    "# или переместить документ на несуществующую полку;\n",
    "\n",
    "def m_move():\n",
    "    doc_number = input('Укажите номер перемещаемого документа ')\n",
    "    right_polka = input('Укажите номер целевой полки ')\n",
    "\n",
    "    if right_polka not in directories.keys():\n",
    "        result = 'Некорректно указан номер целевой полки. Проверьте.'\n",
    "        print(result)\n",
    "        return result\n",
    "    i = 0\n",
    "    for v in directories.values():\n",
    "        \n",
    "        if doc_number in v:\n",
    "            v.remove(doc_number)\n",
    "            i += 1\n",
    " \n",
    "    if i == 0:\n",
    "        result = 'Некорректно указан перемещаемого документа. Проверьте.'\n",
    "        print(result)\n",
    "        return result\n",
    "    else:    \n",
    "        directories[right_polka].append(doc_number)\n"
   ]
  },
  {
   "cell_type": "code",
   "execution_count": 13,
   "metadata": {},
   "outputs": [],
   "source": [
    "# a – add – команда, которая добавит новый документ в каталог и в перечень полок, спросив его номер, тип, \n",
    "# имя владельца и номер полки, на котором он будет храниться.\n",
    "\n",
    "def a_add():\n",
    "    number = input('Введите номер документа, который необходимо добавить ')\n",
    "    type_doc = input('Укажите тип данного документа ')\n",
    "    name_o = input('Укажите имя владельца такого документа ')\n",
    "    shelf = input('Укажите номер полки, где будет храниться документ ')\n",
    "    dictionary = {'type': type_doc, 'number': number, 'name': name_o}\n",
    "    if shelf in directories.keys():\n",
    "        documents.append(dictionary)\n",
    "        directories[shelf].append(number)\n",
    "    else:\n",
    "        print('Такой полки не существует')"
   ]
  },
  {
   "cell_type": "code",
   "execution_count": 17,
   "metadata": {},
   "outputs": [
    {
     "name": "stdout",
     "output_type": "stream",
     "text": [
      "введите команду as\n",
      "укажите номер новой полки 2\n",
      "Такая полка уже существует\n"
     ]
    }
   ],
   "source": [
    "command = input('введите команду ')\n",
    "if command == 'p':\n",
    "    p_people()\n",
    "elif command == 's':\n",
    "    s_shelf()\n",
    "elif command == 'l':\n",
    "    l_list()\n",
    "elif command == 'as':\n",
    "    as_add_shelf()\n",
    "elif command == 'd':\n",
    "    d_delete()\n",
    "elif command == 'm':\n",
    "    m_move()\n",
    "elif command == 'a':\n",
    "    a_add()\n",
    "else:\n",
    "    print('Введена неверная команда')"
   ]
  },
  {
   "cell_type": "code",
   "execution_count": 18,
   "metadata": {},
   "outputs": [
    {
     "name": "stdout",
     "output_type": "stream",
     "text": [
      "{'1': ['2207 876234', '11-2', '5455 028765'], '2': ['10006', '5400 028765', '5455 002299', '454846'], '3': ['3435', '37675', '5454']}\n",
      "[{'type': 'passport', 'number': '2207 876234', 'name': 'Василий Гупкин'}, {'type': 'invoice', 'number': '11-2', 'name': 'Геннадий Покемонов'}, {'type': 'insurance', 'number': '10006', 'name': 'Аристарх Павлов'}, {'type': 'invoice', 'number': '3435', 'name': 'Иван Беляев'}, {'type': 'passport', 'number': '37675', 'name': 'Игорь Колесник'}, {'type': 'invoice', 'number': '5454', 'name': 'Анастасия Волочкова'}, {'type': 'invoice', 'number': '5454843', 'name': 'Остап Бендер'}, {'type': 'invoice', 'number': '454846', 'name': 'Остап Бендер'}]\n"
     ]
    }
   ],
   "source": [
    "print(directories)\n",
    "print(documents)"
   ]
  },
  {
   "cell_type": "code",
   "execution_count": null,
   "metadata": {},
   "outputs": [],
   "source": []
  },
  {
   "cell_type": "code",
   "execution_count": null,
   "metadata": {},
   "outputs": [],
   "source": []
  }
 ],
 "metadata": {
  "kernelspec": {
   "display_name": "Python 3",
   "language": "python",
   "name": "python3"
  },
  "language_info": {
   "codemirror_mode": {
    "name": "ipython",
    "version": 3
   },
   "file_extension": ".py",
   "mimetype": "text/x-python",
   "name": "python",
   "nbconvert_exporter": "python",
   "pygments_lexer": "ipython3",
   "version": "3.7.4"
  }
 },
 "nbformat": 4,
 "nbformat_minor": 2
}
